{
 "cells": [
  {
   "cell_type": "code",
   "execution_count": 5,
   "id": "a9e7a1dd",
   "metadata": {},
   "outputs": [
    {
     "name": "stdout",
     "output_type": "stream",
     "text": [
      "Defaulting to user installation because normal site-packages is not writeable\n",
      "Requirement already satisfied: SpeechRecognition in c:\\users\\janar\\appdata\\roaming\\python\\python39\\site-packages (3.10.1)\n",
      "Requirement already satisfied: pyaudio in c:\\users\\janar\\appdata\\roaming\\python\\python39\\site-packages (0.2.14)\n",
      "Requirement already satisfied: requests>=2.26.0 in c:\\programdata\\anaconda3\\lib\\site-packages (from SpeechRecognition) (2.28.1)\n",
      "Requirement already satisfied: typing-extensions in c:\\users\\janar\\appdata\\roaming\\python\\python39\\site-packages (from SpeechRecognition) (4.9.0)\n",
      "Requirement already satisfied: urllib3<1.27,>=1.21.1 in c:\\programdata\\anaconda3\\lib\\site-packages (from requests>=2.26.0->SpeechRecognition) (1.26.11)\n",
      "Requirement already satisfied: certifi>=2017.4.17 in c:\\programdata\\anaconda3\\lib\\site-packages (from requests>=2.26.0->SpeechRecognition) (2022.9.14)\n",
      "Requirement already satisfied: charset-normalizer<3,>=2 in c:\\programdata\\anaconda3\\lib\\site-packages (from requests>=2.26.0->SpeechRecognition) (2.0.4)\n",
      "Requirement already satisfied: idna<4,>=2.5 in c:\\programdata\\anaconda3\\lib\\site-packages (from requests>=2.26.0->SpeechRecognition) (3.3)\n",
      "Note: you may need to restart the kernel to use updated packages.\n"
     ]
    }
   ],
   "source": [
    "pip install SpeechRecognition pyaudio\n"
   ]
  },
  {
   "cell_type": "code",
   "execution_count": 6,
   "id": "6ca236a3",
   "metadata": {},
   "outputs": [],
   "source": [
    "import speech_recognition as sr"
   ]
  },
  {
   "cell_type": "code",
   "execution_count": 7,
   "id": "81eb34f4",
   "metadata": {},
   "outputs": [],
   "source": [
    "# Function to continuously listen for audio input and transcribe it\n",
    "def transcribe_audio():\n",
    "    recognizer = sr.Recognizer()\n",
    "\n",
    "    # Use the microphone as a source\n",
    "    with sr.Microphone() as source:\n",
    "        print(\"Listening...\")\n",
    "\n",
    "        # Adjust for ambient noise\n",
    "        recognizer.adjust_for_ambient_noise(source)\n",
    "\n",
    "        try:\n",
    "            # Continuously listen for audio input\n",
    "            while True:\n",
    "                audio_data = recognizer.listen(source)\n",
    "\n",
    "                # Recognize speech using Google Speech Recognition\n",
    "                text = recognizer.recognize_google(audio_data)\n",
    "                print(\"You said:\", text)\n",
    "\n",
    "                # Check for a stop condition (e.g., a specific command)\n",
    "                if text.lower() == \"stop\":\n",
    "                    break\n",
    "\n",
    "        except sr.UnknownValueError:\n",
    "            print(\"Google Speech Recognition could not understand audio\")\n",
    "\n",
    "        except sr.RequestError as e:\n",
    "            print(\"Could not request results from Google Speech Recognition service; {0}\".format(e))\n",
    "\n",
    "    return text"
   ]
  },
  {
   "cell_type": "code",
   "execution_count": null,
   "id": "86dd82c0",
   "metadata": {},
   "outputs": [],
   "source": [
    "# Function to save transcribed text to a text file\n",
    "def save_text_to_file(text):\n",
    "    with open(\"transcribed_text.txt\", \"w\") as file:\n",
    "        file.write(text)\n",
    "    print(\"Transcribed text saved to transcribed_text.txt\")"
   ]
  },
  {
   "cell_type": "code",
   "execution_count": null,
   "id": "06895aa0",
   "metadata": {},
   "outputs": [],
   "source": [
    "if __name__ == \"__main__\":\n",
    "    transcribed_text = transcribe_audio()\n",
    "    save_text_to_file(transcribed_text)\n"
   ]
  },
  {
   "cell_type": "code",
   "execution_count": null,
   "id": "45dbf2e3",
   "metadata": {},
   "outputs": [],
   "source": []
  },
  {
   "cell_type": "code",
   "execution_count": null,
   "id": "8d79edf3",
   "metadata": {},
   "outputs": [],
   "source": []
  }
 ],
 "metadata": {
  "kernelspec": {
   "display_name": "Python 3 (ipykernel)",
   "language": "python",
   "name": "python3"
  },
  "language_info": {
   "codemirror_mode": {
    "name": "ipython",
    "version": 3
   },
   "file_extension": ".py",
   "mimetype": "text/x-python",
   "name": "python",
   "nbconvert_exporter": "python",
   "pygments_lexer": "ipython3",
   "version": "3.9.13"
  }
 },
 "nbformat": 4,
 "nbformat_minor": 5
}
