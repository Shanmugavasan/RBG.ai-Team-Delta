{
 "cells": [
  {
   "cell_type": "code",
   "execution_count": 2,
   "id": "0ba7b997",
   "metadata": {},
   "outputs": [
    {
     "name": "stdout",
     "output_type": "stream",
     "text": [
      "Defaulting to user installation because normal site-packages is not writeableNote: you may need to restart the kernel to use updated packages.\n",
      "\n",
      "Collecting pydub\n",
      "  Downloading pydub-0.25.1-py2.py3-none-any.whl (32 kB)\n",
      "Installing collected packages: pydub\n",
      "Successfully installed pydub-0.25.1\n"
     ]
    }
   ],
   "source": [
    "pip install pydub"
   ]
  },
  {
   "cell_type": "code",
   "execution_count": 8,
   "id": "27f815a3",
   "metadata": {},
   "outputs": [
    {
     "name": "stdout",
     "output_type": "stream",
     "text": [
      "Segment 1 saved to D:segment_1.wav\n",
      "Segment 2 saved to D:segment_2.wav\n",
      "Segment 3 saved to D:segment_3.wav\n",
      "Segment 4 saved to D:segment_4.wav\n",
      "Segment 5 saved to D:segment_5.wav\n",
      "Segment 6 saved to D:segment_6.wav\n",
      "Segment 7 saved to D:segment_7.wav\n",
      "Segment 8 saved to D:segment_8.wav\n",
      "Segment 9 saved to D:segment_9.wav\n",
      "Segment 10 saved to D:segment_10.wav\n",
      "Segment 11 saved to D:segment_11.wav\n",
      "Segment 12 saved to D:segment_12.wav\n",
      "Segment 13 saved to D:segment_13.wav\n",
      "Segment 14 saved to D:segment_14.wav\n",
      "Segment 15 saved to D:segment_15.wav\n",
      "Segment 16 saved to D:segment_16.wav\n",
      "Segment 17 saved to D:segment_17.wav\n",
      "Segment 18 saved to D:segment_18.wav\n",
      "Segment 19 saved to D:segment_19.wav\n"
     ]
    }
   ],
   "source": [
    "from pydub import AudioSegment\n",
    "import os\n",
    "\n",
    "def split_audio(input_file, output_folder, segment_duration_ms=10000):\n",
    "    # Load the audio file\n",
    "    audio = AudioSegment.from_file(input_file)\n",
    "\n",
    "    # Calculate the number of segments\n",
    "    num_segments = len(audio) // segment_duration_ms\n",
    "\n",
    "    # Create the output folder if it doesn't exist\n",
    "    os.makedirs(output_folder, exist_ok=True)\n",
    "\n",
    "    # Split the audio into segments\n",
    "    for i in range(num_segments):\n",
    "        start_time = i * segment_duration_ms\n",
    "        end_time = (i + 1) * segment_duration_ms\n",
    "        segment = audio[start_time:end_time]\n",
    "\n",
    "        # Save each segment to the output folder\n",
    "        output_file = os.path.join(output_folder, f\"segment_{i + 1}.wav\")\n",
    "        segment.export(output_file, format=\"wav\")\n",
    "        print(f\"Segment {i + 1} saved to {output_file}\")\n",
    "\n",
    "# Example usage:\n",
    "input_audio_file = \"D:\\long.wav\"\n",
    "output_folder = \"D:\"\n",
    "split_audio(input_audio_file, output_folder, segment_duration_ms=200000)  # Split every 10 seconds\n"
   ]
  },
  {
   "cell_type": "code",
   "execution_count": null,
   "id": "47a0c8dc",
   "metadata": {},
   "outputs": [],
   "source": []
  }
 ],
 "metadata": {
  "kernelspec": {
   "display_name": "Python 3 (ipykernel)",
   "language": "python",
   "name": "python3"
  },
  "language_info": {
   "codemirror_mode": {
    "name": "ipython",
    "version": 3
   },
   "file_extension": ".py",
   "mimetype": "text/x-python",
   "name": "python",
   "nbconvert_exporter": "python",
   "pygments_lexer": "ipython3",
   "version": "3.11.4"
  }
 },
 "nbformat": 4,
 "nbformat_minor": 5
}
