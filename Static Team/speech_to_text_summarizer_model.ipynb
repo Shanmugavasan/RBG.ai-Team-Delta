{
 "cells": [
  {
   "cell_type": "code",
   "execution_count": 18,
   "id": "410f0fcb",
   "metadata": {},
   "outputs": [],
   "source": [
    "import speech_recognition as sr\n",
    "from nltk.corpus import stopwords\n",
    "from nltk.tokenize import word_tokenize, sent_tokenize\n",
    "from nltk.probability import FreqDist\n",
    "from nltk.tokenize import word_tokenize"
   ]
  },
  {
   "cell_type": "code",
   "execution_count": 19,
   "id": "fbc45b9f",
   "metadata": {},
   "outputs": [],
   "source": [
    "# Function to convert speech into text\n",
    "def speech_to_text(audio_file):\n",
    "    recognizer = sr.Recognizer()\n",
    "    \n",
    "    with sr.AudioFile(audio_file) as source:\n",
    "        audio = recognizer.record(source)\n",
    "        \n",
    "    text = recognizer.recognize_google(audio)\n",
    "    return text"
   ]
  },
  {
   "cell_type": "code",
   "execution_count": 20,
   "id": "74ac371a",
   "metadata": {},
   "outputs": [],
   "source": [
    "# Function to summarize the text\n",
    "def summarize_text(text):\n",
    "    # Tokenize the text into sentences\n",
    "    sentences = sent_tokenize(text)\n",
    "    \n",
    "    # Tokenize the text into words\n",
    "    words = word_tokenize(text)\n",
    "    \n",
    "    # Remove stopwords from the words\n",
    "    stop_words = set(stopwords.words('english'))\n",
    "    words = [word.lower() for word in words if word.lower() not in stop_words]\n",
    "    \n",
    "    # Calculate the frequency distribution of the words\n",
    "    word_frequencies = FreqDist(words)\n",
    "    \n",
    "    # Get the most frequent words\n",
    "    top_words = word_frequencies.most_common(10)\n",
    "    \n",
    "    summary = [sentence for sentence in sentences if any(word in sentence.lower() for word, _ in top_words)]\n",
    "    return ' '.join(summary)\n"
   ]
  },
  {
   "cell_type": "code",
   "execution_count": 66,
   "id": "6442ad94",
   "metadata": {},
   "outputs": [],
   "source": [
    "# Main function\n",
    "\n",
    "audio_file = \"D:\\segment_1.wav\""
   ]
  },
  {
   "cell_type": "code",
   "execution_count": 67,
   "id": "6732f13e",
   "metadata": {},
   "outputs": [],
   "source": [
    "recognizer = sr.Recognizer()"
   ]
  },
  {
   "cell_type": "code",
   "execution_count": 68,
   "id": "e6015777",
   "metadata": {},
   "outputs": [
    {
     "data": {
      "text/plain": [
       "<speech_recognition.Recognizer at 0x18d00071730>"
      ]
     },
     "execution_count": 68,
     "metadata": {},
     "output_type": "execute_result"
    }
   ],
   "source": [
    " recognizer"
   ]
  },
  {
   "cell_type": "code",
   "execution_count": 69,
   "id": "3540a997",
   "metadata": {},
   "outputs": [],
   "source": [
    "with sr.AudioFile(audio_file) as source:\n",
    "        audio = recognizer.record(source)"
   ]
  },
  {
   "cell_type": "code",
   "execution_count": 70,
   "id": "aa212c2f",
   "metadata": {},
   "outputs": [
    {
     "data": {
      "text/plain": [
       "<speech_recognition.audio.AudioData at 0x18d5e3f1040>"
      ]
     },
     "execution_count": 70,
     "metadata": {},
     "output_type": "execute_result"
    }
   ],
   "source": [
    "audio"
   ]
  },
  {
   "cell_type": "code",
   "execution_count": 71,
   "id": "840120c4",
   "metadata": {},
   "outputs": [],
   "source": [
    "text = recognizer.recognize_google(audio)"
   ]
  },
  {
   "cell_type": "code",
   "execution_count": 72,
   "id": "0f923238",
   "metadata": {},
   "outputs": [
    {
     "data": {
      "text/plain": [
       "\"want to speak real English from your first lesson sign up for free lifetime account at English class 11 account of finally start speaking in your target language in this guide you'll discover the top 7 ways to practice speaking on your own with our lessons let's begin number one shadowing shadowing is a proven learning technique where are you do is repeat what you here in order to practice speaking so access any audio or video lesson on this site with every lesson notes\""
      ]
     },
     "execution_count": 72,
     "metadata": {},
     "output_type": "execute_result"
    }
   ],
   "source": [
    "summarize_text(text)"
   ]
  },
  {
   "cell_type": "code",
   "execution_count": 16,
   "id": "53a7678b",
   "metadata": {},
   "outputs": [
    {
     "data": {
      "text/plain": [
       "'D:\\\\WhatsApp Audio 2024-01-24 at 11.28.32 AM.ogg'"
      ]
     },
     "execution_count": 16,
     "metadata": {},
     "output_type": "execute_result"
    }
   ],
   "source": [
    "\"D:\\WhatsApp Audio 2024-01-24 at 11.28.32 AM.ogg\""
   ]
  },
  {
   "cell_type": "code",
   "execution_count": null,
   "id": "8dda3d18",
   "metadata": {},
   "outputs": [],
   "source": []
  }
 ],
 "metadata": {
  "kernelspec": {
   "display_name": "Python 3 (ipykernel)",
   "language": "python",
   "name": "python3"
  },
  "language_info": {
   "codemirror_mode": {
    "name": "ipython",
    "version": 3
   },
   "file_extension": ".py",
   "mimetype": "text/x-python",
   "name": "python",
   "nbconvert_exporter": "python",
   "pygments_lexer": "ipython3",
   "version": "3.9.13"
  }
 },
 "nbformat": 4,
 "nbformat_minor": 5
}
