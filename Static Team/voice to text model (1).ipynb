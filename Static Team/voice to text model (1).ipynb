{
 "cells": [
  {
   "cell_type": "code",
   "execution_count": 9,
   "id": "410f0fcb",
   "metadata": {},
   "outputs": [],
   "source": [
    "import speech_recognition as sr\n",
    "from nltk.corpus import stopwords\n",
    "from nltk.tokenize import word_tokenize, sent_tokenize\n",
    "from nltk.probability import FreqDist\n",
    "from nltk.tokenize import word_tokenize"
   ]
  },
  {
   "cell_type": "code",
   "execution_count": 10,
   "id": "fbc45b9f",
   "metadata": {},
   "outputs": [],
   "source": [
    "# Function to convert speech into text\n",
    "def speech_to_text(audio_file):\n",
    "    recognizer = sr.Recognizer()\n",
    "    \n",
    "    with sr.AudioFile(audio_file) as source:\n",
    "        audio = recognizer.record(source)\n",
    "        \n",
    "    text = recognizer.recognize_google(audio)\n",
    "    return text"
   ]
  },
  {
   "cell_type": "code",
   "execution_count": 11,
   "id": "74ac371a",
   "metadata": {},
   "outputs": [],
   "source": [
    "# Function to summarize the text\n",
    "def summarize_text(text):\n",
    "    # Tokenize the text into sentences\n",
    "    sentences = sent_tokenize(text)\n",
    "    \n",
    "    # Tokenize the text into words\n",
    "    words = word_tokenize(text)\n",
    "    \n",
    "    # Remove stopwords from the words\n",
    "    stop_words = set(stopwords.words('english'))\n",
    "    words = [word.lower() for word in words if word.lower() not in stop_words]\n",
    "    \n",
    "    # Calculate the frequency distribution of the words\n",
    "    word_frequencies = FreqDist(words)\n",
    "    \n",
    "    # Get the most frequent words\n",
    "    top_words = word_frequencies.most_common(10)\n",
    "    \n",
    "    summary = [sentence for sentence in sentences if any(word in sentence.lower() for word, _ in top_words)]\n",
    "    return ' '.join(summary)\n"
   ]
  },
  {
   "cell_type": "code",
   "execution_count": 33,
   "id": "6442ad94",
   "metadata": {},
   "outputs": [],
   "source": [
    "# Main function\n",
    "audio_file = \"D:\\WhatsApp Audio 2024-01-24 at 11.28.32 AM.wav\""
   ]
  },
  {
   "cell_type": "code",
   "execution_count": 34,
   "id": "6732f13e",
   "metadata": {},
   "outputs": [],
   "source": [
    "recognizer = sr.Recognizer()"
   ]
  },
  {
   "cell_type": "code",
   "execution_count": 35,
   "id": "e6015777",
   "metadata": {},
   "outputs": [
    {
     "data": {
      "text/plain": [
       "<speech_recognition.Recognizer at 0x203423e0400>"
      ]
     },
     "execution_count": 35,
     "metadata": {},
     "output_type": "execute_result"
    }
   ],
   "source": [
    " recognizer"
   ]
  },
  {
   "cell_type": "code",
   "execution_count": 36,
   "id": "3540a997",
   "metadata": {},
   "outputs": [],
   "source": [
    "with sr.AudioFile(audio_file) as source:\n",
    "        audio = recognizer.record(source)"
   ]
  },
  {
   "cell_type": "code",
   "execution_count": 37,
   "id": "aa212c2f",
   "metadata": {},
   "outputs": [
    {
     "data": {
      "text/plain": [
       "<speech_recognition.audio.AudioData at 0x203309ca100>"
      ]
     },
     "execution_count": 37,
     "metadata": {},
     "output_type": "execute_result"
    }
   ],
   "source": [
    "audio"
   ]
  },
  {
   "cell_type": "code",
   "execution_count": 38,
   "id": "840120c4",
   "metadata": {},
   "outputs": [],
   "source": [
    "text = recognizer.recognize_google(audio)"
   ]
  },
  {
   "cell_type": "code",
   "execution_count": 39,
   "id": "0f923238",
   "metadata": {},
   "outputs": [
    {
     "data": {
      "text/plain": [
       "'hi this is clearing from various department'"
      ]
     },
     "execution_count": 39,
     "metadata": {},
     "output_type": "execute_result"
    }
   ],
   "source": [
    "text"
   ]
  },
  {
   "cell_type": "code",
   "execution_count": null,
   "id": "53a7678b",
   "metadata": {},
   "outputs": [],
   "source": [
    "\"D:\\WhatsApp Audio 2024-01-24 at 11.28.32 AM.ogg\""
   ]
  }
 ],
 "metadata": {
  "kernelspec": {
   "display_name": "Python 3 (ipykernel)",
   "language": "python",
   "name": "python3"
  },
  "language_info": {
   "codemirror_mode": {
    "name": "ipython",
    "version": 3
   },
   "file_extension": ".py",
   "mimetype": "text/x-python",
   "name": "python",
   "nbconvert_exporter": "python",
   "pygments_lexer": "ipython3",
   "version": "3.11.4"
  }
 },
 "nbformat": 4,
 "nbformat_minor": 5
}
