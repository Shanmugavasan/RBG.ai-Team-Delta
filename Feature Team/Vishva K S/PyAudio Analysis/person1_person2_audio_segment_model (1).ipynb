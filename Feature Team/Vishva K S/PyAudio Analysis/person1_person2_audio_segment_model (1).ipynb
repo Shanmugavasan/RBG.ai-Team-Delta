{
 "cells": [
  {
   "cell_type": "code",
   "execution_count": 1,
   "id": "b091c22f",
   "metadata": {},
   "outputs": [],
   "source": [
    "import os"
   ]
  },
  {
   "cell_type": "code",
   "execution_count": 2,
   "id": "dad1605e",
   "metadata": {},
   "outputs": [],
   "source": [
    "import speech_recognition as sr"
   ]
  },
  {
   "cell_type": "code",
   "execution_count": 3,
   "id": "b608444b",
   "metadata": {},
   "outputs": [],
   "source": [
    "def transcribe_audio(audio_file):\n",
    "    recognizer = sr.Recognizer()\n",
    "    with sr.AudioFile(audio_file) as source:\n",
    "        audio_data = recognizer.record(source)\n",
    "    try:\n",
    "        text = recognizer.recognize_google(audio_data, language=\"en-US\")\n",
    "        return text\n",
    "    except sr.UnknownValueError:\n",
    "        print(\"Speech Recognition could not understand the audio.\")\n",
    "        return None\n",
    "    except sr.RequestError as e:\n",
    "        print(f\"Could not request results from Speech Recognition service; {e}\")\n",
    "        return None"
   ]
  },
  {
   "cell_type": "code",
   "execution_count": 4,
   "id": "ef4ad704",
   "metadata": {},
   "outputs": [],
   "source": [
    "def segment_conversation(text):\n",
    "    # Split the text into segments based on speaker turns\n",
    "    segments = []\n",
    "    current_speaker = None\n",
    "    current_segment = \"\"\n",
    "    lines = text.split(\"\\n\")\n",
    "    for line in lines:\n",
    "        if line.startswith(\"Person\"):\n",
    "            if current_segment:\n",
    "                segments.append((current_speaker, current_segment.strip()))\n",
    "            current_speaker = line\n",
    "            current_segment = \"\"\n",
    "        else:\n",
    "            current_segment += line + \" \"\n",
    "    if current_segment:\n",
    "        segments.append((current_speaker, current_segment.strip()))\n",
    "    return segments\n"
   ]
  },
  {
   "cell_type": "code",
   "execution_count": 5,
   "id": "24c33d96",
   "metadata": {},
   "outputs": [],
   "source": [
    "def write_conversation(segments, output_folder):\n",
    "    os.makedirs(output_folder, exist_ok=True)\n",
    "    for i, (speaker, text) in enumerate(segments):\n",
    "        filename = f\"person{i + 1}.txt\"\n",
    "        with open(os.path.join(output_folder, filename), \"w\") as f:\n",
    "            f.write(f\"{speaker}:\\n\")\n",
    "            f.write(text)"
   ]
  },
  {
   "cell_type": "code",
   "execution_count": 7,
   "id": "1a24fce1",
   "metadata": {},
   "outputs": [],
   "source": [
    "if __name__ == \"__main__\":\n",
    "    audio_file = \"D:\\separateaudiocheck2.wav\"\n",
    "    output_folder = \"segregated_conversation\"\n",
    "\n",
    "    # Step 1: Transcribe audio\n",
    "    text = transcribe_audio(audio_file)\n",
    "\n",
    "    # Step 2: Segment conversation\n",
    "    segments = segment_conversation(text)\n",
    "\n",
    "    # Step 3: Write segmented conversation to files\n",
    "    write_conversation(segments, output_folder)"
   ]
  },
  {
   "cell_type": "code",
   "execution_count": null,
   "id": "951faac6",
   "metadata": {},
   "outputs": [],
   "source": []
  }
 ],
 "metadata": {
  "kernelspec": {
   "display_name": "Python 3 (ipykernel)",
   "language": "python",
   "name": "python3"
  },
  "language_info": {
   "codemirror_mode": {
    "name": "ipython",
    "version": 3
   },
   "file_extension": ".py",
   "mimetype": "text/x-python",
   "name": "python",
   "nbconvert_exporter": "python",
   "pygments_lexer": "ipython3",
   "version": "3.11.4"
  }
 },
 "nbformat": 4,
 "nbformat_minor": 5
}
